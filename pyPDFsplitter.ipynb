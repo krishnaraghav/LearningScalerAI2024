{
 "cells": [
  {
   "cell_type": "code",
   "execution_count": 1,
   "id": "02bd7cbc",
   "metadata": {},
   "outputs": [
    {
     "ename": "ModuleNotFoundError",
     "evalue": "No module named 'aspose'",
     "output_type": "error",
     "traceback": [
      "\u001b[1;31m---------------------------------------------------------------------------\u001b[0m",
      "\u001b[1;31mModuleNotFoundError\u001b[0m                       Traceback (most recent call last)",
      "Cell \u001b[1;32mIn[1], line 1\u001b[0m\n\u001b[1;32m----> 1\u001b[0m \u001b[38;5;28;01mimport\u001b[39;00m \u001b[38;5;21;01maspose\u001b[39;00m\u001b[38;5;21;01m.\u001b[39;00m\u001b[38;5;21;01mpdf\u001b[39;00m \u001b[38;5;28;01mas\u001b[39;00m \u001b[38;5;21;01map\u001b[39;00m\n",
      "\u001b[1;31mModuleNotFoundError\u001b[0m: No module named 'aspose'"
     ]
    }
   ],
   "source": [
    " "
   ]
  },
  {
   "cell_type": "code",
   "execution_count": 3,
   "id": "20f19a25",
   "metadata": {},
   "outputs": [
    {
     "name": "stdout",
     "output_type": "stream",
     "text": [
      "Collecting pyPDF2\n",
      "  Downloading pypdf2-3.0.1-py3-none-any.whl (232 kB)\n",
      "     ---------------------------------------- 0.0/232.6 kB ? eta -:--:--\n",
      "     -------------------- ----------------- 122.9/232.6 kB 2.4 MB/s eta 0:00:01\n",
      "     -------------------------------------- 232.6/232.6 kB 2.8 MB/s eta 0:00:00\n",
      "Requirement already satisfied: typing_extensions>=3.10.0.0 in c:\\users\\raghav\\anaconda3\\envs\\tensorflow-session\\lib\\site-packages (from pyPDF2) (4.11.0)\n",
      "Installing collected packages: pyPDF2\n",
      "Successfully installed pyPDF2-3.0.1\n"
     ]
    }
   ],
   "source": [
    "!pip install pyPDF2"
   ]
  },
  {
   "cell_type": "code",
   "execution_count": 4,
   "id": "1f8844cb",
   "metadata": {},
   "outputs": [
    {
     "name": "stdout",
     "output_type": "stream",
     "text": [
      "Saved: ./splitpdf/page_1.pdf\n",
      "Saved: ./splitpdf/page_2.pdf\n",
      "Saved: ./splitpdf/page_3.pdf\n",
      "Saved: ./splitpdf/page_4.pdf\n",
      "Saved: ./splitpdf/page_5.pdf\n",
      "Saved: ./splitpdf/page_6.pdf\n",
      "Saved: ./splitpdf/page_7.pdf\n",
      "Saved: ./splitpdf/page_8.pdf\n",
      "Saved: ./splitpdf/page_9.pdf\n",
      "Saved: ./splitpdf/page_10.pdf\n",
      "Saved: ./splitpdf/page_11.pdf\n",
      "Saved: ./splitpdf/page_12.pdf\n",
      "Saved: ./splitpdf/page_13.pdf\n",
      "Saved: ./splitpdf/page_14.pdf\n",
      "Saved: ./splitpdf/page_15.pdf\n",
      "Saved: ./splitpdf/page_16.pdf\n",
      "Saved: ./splitpdf/page_17.pdf\n",
      "Saved: ./splitpdf/page_18.pdf\n",
      "Saved: ./splitpdf/page_19.pdf\n",
      "Saved: ./splitpdf/page_20.pdf\n",
      "Saved: ./splitpdf/page_21.pdf\n",
      "Saved: ./splitpdf/page_22.pdf\n",
      "Saved: ./splitpdf/page_23.pdf\n",
      "Saved: ./splitpdf/page_24.pdf\n",
      "Saved: ./splitpdf/page_25.pdf\n",
      "Saved: ./splitpdf/page_26.pdf\n",
      "Saved: ./splitpdf/page_27.pdf\n",
      "Saved: ./splitpdf/page_28.pdf\n"
     ]
    }
   ],
   "source": [
    "from PyPDF2 import PdfReader, PdfWriter\n",
    "\n",
    "def split_pdf(input_pdf, output_folder):\n",
    "    # Read the PDF file\n",
    "    reader = PdfReader(input_pdf)\n",
    "    \n",
    "    # Loop through each page and create a separate PDF\n",
    "    for page_num in range(len(reader.pages)):\n",
    "        writer = PdfWriter()\n",
    "        writer.add_page(reader.pages[page_num])\n",
    "\n",
    "        # Output filename\n",
    "        output_pdf = f\"{output_folder}/page_{page_num + 1}.pdf\"\n",
    "        \n",
    "        # Write the individual page to a new PDF\n",
    "        with open(output_pdf, \"wb\") as output_file:\n",
    "            writer.write(output_file)\n",
    "        print(f\"Saved: {output_pdf}\")\n",
    "\n",
    "# Usage\n",
    "input_pdf = \"./analytics_vidhyaGen_AI_Curriculum.pdf\"  # Replace with your input PDF file\n",
    "output_folder = \"./splitpdf\"  # Replace with your desired output folder path\n",
    "split_pdf(input_pdf, output_folder)\n"
   ]
  },
  {
   "cell_type": "code",
   "execution_count": 5,
   "id": "3424a6bf",
   "metadata": {},
   "outputs": [],
   "source": [
    "import time"
   ]
  },
  {
   "cell_type": "code",
   "execution_count": 10,
   "id": "fad1bae7",
   "metadata": {},
   "outputs": [
    {
     "name": "stdout",
     "output_type": "stream",
     "text": [
      "Press enter to start\n",
      "Press enter to stop\n",
      "0 minutes and 0.41 seconds\n"
     ]
    }
   ],
   "source": [
    "def stopwatch():\n",
    "    input(\"Press enter to start\")\n",
    "    start_time=time.time()\n",
    "    input(\"Press enter to stop\")\n",
    "\n",
    "    end_time=time.time()\n",
    "    lapsed_time=end_time-start_time\n",
    "    minutes,seconds=divmod(lapsed_time,60)\n",
    "    print(f\"{int(minutes)} minutes and {seconds:.2f} seconds\")\n",
    "    \n",
    "stopwatch()"
   ]
  },
  {
   "cell_type": "code",
   "execution_count": null,
   "id": "32dca1fc",
   "metadata": {},
   "outputs": [],
   "source": []
  }
 ],
 "metadata": {
  "kernelspec": {
   "display_name": "Python 3 (ipykernel)",
   "language": "python",
   "name": "python3"
  },
  "language_info": {
   "codemirror_mode": {
    "name": "ipython",
    "version": 3
   },
   "file_extension": ".py",
   "mimetype": "text/x-python",
   "name": "python",
   "nbconvert_exporter": "python",
   "pygments_lexer": "ipython3",
   "version": "3.9.16"
  }
 },
 "nbformat": 4,
 "nbformat_minor": 5
}
