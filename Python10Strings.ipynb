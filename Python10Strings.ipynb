{
 "cells": [
  {
   "cell_type": "code",
   "execution_count": 4,
   "id": "d02f0851",
   "metadata": {},
   "outputs": [
    {
     "data": {
      "text/plain": [
       "\"\\nprint('This file is about the policy of {name} issued at date{ } for a premium of {}')\\nSulekhsha\\nBasic:\\n1. Temperature conversion\\n2. Basic calculator\\n3. Unit conversion\\n4. Check whether the year is a Leap year\\n5. Finding the required Power of a number\\n6. Findling GCD and LCM of a number\\n7. Finding Factors of a number\\n8. Check whether the given number is a prime number or not\\n9. Finding Prime factors of a number\\n10. Printing prime numbers upto n\\n11. Printing n prime numbers\\n12. Reversing a number\\n13. Fibonacci series\\n14. Swap without temporary variable\\n15. Swap with temporary variable\\n16. Find whether the given number is positive or negative\\n17. Find whether the given number is even or odd\\n18. Factorial of a number using recursion\\n19. Find maximum and minimum\\n20. Armstrong number\\n21. Conversion of ASCII value to character and vice versa\\nString:\\n1. Case conversion of vowels\\n2. Searching a letter / character in a string\\n3. Counting a letter / character in a string\\n4. Case conversion of a string\\n5. Palindrome\\n6. Check whether 2 strings are equal or not\\n7. String reversal\\n8. Counting the number of vowels\\nArray:\\n1. Getting array input, reversing the array elements and printing the output.\\n2. Counting an element in an array.\\n3. Searching for an element in an array.\\n4. Sorting the elements of an array in ascending order.\\n5. Sorting the elements of an array in descending order.\\n6. Finding the nth smallest element of an array.\\n7. Finding the nth largest element of an array.\\n8. Finding duplicate elements of an array and printing the array with duplicate elements and\\nthe array without duplicate elements.\\nPatterns:\\n1. n=5\\n* \\n**\""
      ]
     },
     "execution_count": 4,
     "metadata": {},
     "output_type": "execute_result"
    }
   ],
   "source": [
    "'''\n",
    "print('This file is about the policy of {name} issued at date{ } for a premium of {}')\n",
    "Sulekhsha\n",
    "Basic:\n",
    "1. Temperature conversion\n",
    "2. Basic calculator\n",
    "3. Unit conversion\n",
    "4. Check whether the year is a Leap year\n",
    "5. Finding the required Power of a number\n",
    "6. Findling GCD and LCM of a number\n",
    "7. Finding Factors of a number\n",
    "8. Check whether the given number is a prime number or not\n",
    "9. Finding Prime factors of a number\n",
    "10. Printing prime numbers upto n\n",
    "11. Printing n prime numbers\n",
    "12. Reversing a number\n",
    "13. Fibonacci series\n",
    "14. Swap without temporary variable\n",
    "15. Swap with temporary variable\n",
    "16. Find whether the given number is positive or negative\n",
    "17. Find whether the given number is even or odd\n",
    "18. Factorial of a number using recursion\n",
    "19. Find maximum and minimum\n",
    "20. Armstrong number\n",
    "21. Conversion of ASCII value to character and vice versa\n",
    "String:\n",
    "1. Case conversion of vowels\n",
    "2. Searching a letter / character in a string\n",
    "3. Counting a letter / character in a string\n",
    "4. Case conversion of a string\n",
    "5. Palindrome\n",
    "6. Check whether 2 strings are equal or not\n",
    "7. String reversal\n",
    "8. Counting the number of vowels\n",
    "Array:\n",
    "1. Getting array input, reversing the array elements and printing the output.\n",
    "2. Counting an element in an array.\n",
    "3. Searching for an element in an array.\n",
    "4. Sorting the elements of an array in ascending order.\n",
    "5. Sorting the elements of an array in descending order.\n",
    "6. Finding the nth smallest element of an array.\n",
    "7. Finding the nth largest element of an array.\n",
    "8. Finding duplicate elements of an array and printing the array with duplicate elements and\n",
    "the array without duplicate elements.\n",
    "Patterns:\n",
    "1. n=5\n",
    "* \n",
    "**'''"
   ]
  },
  {
   "cell_type": "code",
   "execution_count": null,
   "id": "e5f7e0d6",
   "metadata": {},
   "outputs": [],
   "source": [
    "from datetime import date\n",
    "import time \n",
    "#LIC Policy with name/date/amount\n",
    "name=input(\"Enter your Name for the policy: \")\n",
    "date=date.today()\n",
    "amount=input('Enter amount for which you want premium(in Rs.).eg 10,000 / 20,000: ')\n",
    "print('')\n",
    "print('Your Policy:')\n",
    "print(f'''This file is about the policy of {name} issued at date: {date } for a premium of {amount}. \n",
    "      PremiumsThe Client agrees to pay the Insurer an Insurance Premium amounting to\n",
    "       .The premiums shall be due and payable on the due date stated in the policy, which shall be nolater \n",
    "       than days from the effective date. The insured may choose to paythe premiums in a lump\n",
    "       sum or in installments, subject to any fees or charges that mayapply.If the insured fails to pay the \n",
    "       premium on or before the due date, the Agreement may becanceled or coverage may be suspended until such\n",
    "       time as the premium is paid in full. Theinsurer reserves the right to adjust the premium at any time \n",
    "       during the Agreement periodupon giving the insured notice in writing.Service\n",
    "      CoverageThe Insurer agrees to provide insurance coverage for the Client as identified below\n",
    "      (“Services”)''')"
   ]
  },
  {
   "cell_type": "code",
   "execution_count": 10,
   "id": "c739e59e",
   "metadata": {},
   "outputs": [
    {
     "name": "stdout",
     "output_type": "stream",
     "text": [
      "Enter number to reverse :12323\n",
      "32321\n"
     ]
    }
   ],
   "source": [
    "#function for reversing a number\n",
    " \n",
    "def Reverse(n):\n",
    "    new_num=0\n",
    "    while(n>0):\n",
    "        new_num= (new_num)*10+n%10\n",
    "        n=n//10 # if n/10 then it i will be 1.23\n",
    "    print(new_num)\n",
    "        \n",
    "    \n",
    "    \n",
    "    \n",
    "num=int(input(\"Enter number to reverse :\"))\n",
    "Reverse(num)\n"
   ]
  },
  {
   "cell_type": "markdown",
   "id": "e9cd7f8e",
   "metadata": {},
   "source": []
  },
  {
   "cell_type": "code",
   "execution_count": 15,
   "id": "7bcf0c68",
   "metadata": {},
   "outputs": [
    {
     "name": "stdout",
     "output_type": "stream",
     "text": [
      "Enter temparature in celcius: 29\n",
      "Temperature in farenheit is 84.2\n"
     ]
    }
   ],
   "source": [
    "#temperature conversion\n",
    "def TemperatureConversion(c):\n",
    "    f=c*(9/5)+ 32\n",
    "    print(f'Temperature in farenheit is {f}')\n",
    "\n",
    "\n",
    "c= int(input('Enter temparature in celcius: '))\n",
    "TemperatureConversion(c)\n"
   ]
  },
  {
   "cell_type": "code",
   "execution_count": 23,
   "id": "9d92d3c7",
   "metadata": {},
   "outputs": [
    {
     "name": "stdout",
     "output_type": "stream",
     "text": [
      "Enter numbers to find factors: 120\n",
      "Factors of 120 are:\n",
      "1,2,3,4,5,6,8,10,12,15,20,24,30,40,60,"
     ]
    }
   ],
   "source": [
    "#finding factors of a number\n",
    "def factorsofNum(n):\n",
    "    print(f'Factors of {n} are:')\n",
    "    for i in range(1,n//2+1):\n",
    "        if(n%i==0):\n",
    "            print(i,end=',')\n",
    "           \n",
    "            \n",
    "\n",
    "\n",
    "num=int(input(\"Enter numbers to find factors: \"))\n",
    "factorsofNum(num)"
   ]
  },
  {
   "cell_type": "code",
   "execution_count": 19,
   "id": "6646c711",
   "metadata": {},
   "outputs": [],
   "source": [
    "print?"
   ]
  },
  {
   "cell_type": "code",
   "execution_count": 24,
   "id": "fe794d39",
   "metadata": {},
   "outputs": [],
   "source": [
    "#Strings "
   ]
  },
  {
   "cell_type": "code",
   "execution_count": 2,
   "id": "95444113",
   "metadata": {},
   "outputs": [
    {
     "name": "stdout",
     "output_type": "stream",
     "text": [
      "enter a worda\n",
      "enter the letter to find: o\n",
      "true 8 letter\n"
     ]
    }
   ],
   "source": [
    "#finding a letter in a string\n",
    "s=input('enter a word')\n",
    "l=input('enter the letter to find: ')\n",
    "s='quickbrownlazyfox'\n",
    "\n",
    "flag=0\n",
    "count=0\n",
    "for i in s:\n",
    "    count=count+1\n",
    "    if(i==l):\n",
    "        flag=1 \n",
    "        \n",
    "        break\n",
    "if (flag==1):\n",
    "    print('true', count,'th letter')\n",
    "else:\n",
    "    print('letter is not in word')"
   ]
  },
  {
   "cell_type": "code",
   "execution_count": 5,
   "id": "18bbe736",
   "metadata": {},
   "outputs": [],
   "source": [
    "#Arrays"
   ]
  },
  {
   "cell_type": "code",
   "execution_count": 8,
   "id": "d763416e",
   "metadata": {},
   "outputs": [
    {
     "name": "stdout",
     "output_type": "stream",
     "text": [
      "1 3 4 2 9 6 8 "
     ]
    }
   ],
   "source": [
    "list=[1,3,4,2,9,6,8]\n",
    "for i in list:\n",
    "    print(i,end=' ')"
   ]
  },
  {
   "cell_type": "code",
   "execution_count": 2,
   "id": "8e03b9ca",
   "metadata": {},
   "outputs": [
    {
     "name": "stdout",
     "output_type": "stream",
     "text": [
      "Enter element to add: 123\n",
      "do you want to continue Y/N: y\n",
      "Enter element to add: 213\n",
      "do you want to continue Y/N: y\n",
      "Enter element to add: 4325\n",
      "do you want to continue Y/N: y\n",
      "Enter element to add: 380\n",
      "do you want to continue Y/N: y\n",
      "Enter element to add: 987\n",
      "do you want to continue Y/N: y\n",
      "Enter element to add: 09384\n",
      "do you want to continue Y/N: n\n",
      "[123, 213, 4325, 380, 987, 9384]\n"
     ]
    }
   ],
   "source": [
    "list=[]\n",
    "flag='Y'\n",
    "while(flag=='Y' or flag=='y'):\n",
    "    a=int(input(\"Enter element to add: \"))\n",
    "    list.append(a)\n",
    "    flag=input('do you want to continue Y/N: ')\n",
    "print(list)\n",
    "    "
   ]
  },
  {
   "cell_type": "code",
   "execution_count": 3,
   "id": "569b914f",
   "metadata": {},
   "outputs": [
    {
     "name": "stdout",
     "output_type": "stream",
     "text": [
      "[123, 213, 4325, 380, 987, 9384]\n"
     ]
    }
   ],
   "source": [
    "print(list)"
   ]
  },
  {
   "cell_type": "code",
   "execution_count": null,
   "id": "0dc4f52d",
   "metadata": {},
   "outputs": [],
   "source": []
  }
 ],
 "metadata": {
  "kernelspec": {
   "display_name": "Python 3 (ipykernel)",
   "language": "python",
   "name": "python3"
  },
  "language_info": {
   "codemirror_mode": {
    "name": "ipython",
    "version": 3
   },
   "file_extension": ".py",
   "mimetype": "text/x-python",
   "name": "python",
   "nbconvert_exporter": "python",
   "pygments_lexer": "ipython3",
   "version": "3.9.16"
  }
 },
 "nbformat": 4,
 "nbformat_minor": 5
}
