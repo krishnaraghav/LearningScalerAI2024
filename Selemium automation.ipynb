{
 "cells": [
  {
   "cell_type": "code",
   "execution_count": 1,
   "id": "c3ff2603",
   "metadata": {},
   "outputs": [
    {
     "name": "stdout",
     "output_type": "stream",
     "text": [
      "Requirement already satisfied: selenium in c:\\users\\raghav\\anaconda3\\envs\\tensorflow-session\\lib\\site-packages (4.21.0)\n",
      "Requirement already satisfied: typing_extensions>=4.9.0 in c:\\users\\raghav\\anaconda3\\envs\\tensorflow-session\\lib\\site-packages (from selenium) (4.11.0)\n",
      "Requirement already satisfied: certifi>=2021.10.8 in c:\\users\\raghav\\anaconda3\\envs\\tensorflow-session\\lib\\site-packages (from selenium) (2023.5.7)\n",
      "Requirement already satisfied: trio-websocket~=0.9 in c:\\users\\raghav\\anaconda3\\envs\\tensorflow-session\\lib\\site-packages (from selenium) (0.11.1)\n",
      "Requirement already satisfied: urllib3[socks]<3,>=1.26 in c:\\users\\raghav\\anaconda3\\envs\\tensorflow-session\\lib\\site-packages (from selenium) (2.2.1)\n",
      "Requirement already satisfied: trio~=0.17 in c:\\users\\raghav\\anaconda3\\envs\\tensorflow-session\\lib\\site-packages (from selenium) (0.25.1)\n",
      "Requirement already satisfied: sniffio>=1.3.0 in c:\\users\\raghav\\anaconda3\\envs\\tensorflow-session\\lib\\site-packages (from trio~=0.17->selenium) (1.3.1)\n",
      "Requirement already satisfied: exceptiongroup in c:\\users\\raghav\\anaconda3\\envs\\tensorflow-session\\lib\\site-packages (from trio~=0.17->selenium) (1.2.1)\n",
      "Requirement already satisfied: sortedcontainers in c:\\users\\raghav\\anaconda3\\envs\\tensorflow-session\\lib\\site-packages (from trio~=0.17->selenium) (2.4.0)\n",
      "Requirement already satisfied: attrs>=23.2.0 in c:\\users\\raghav\\anaconda3\\envs\\tensorflow-session\\lib\\site-packages (from trio~=0.17->selenium) (23.2.0)\n",
      "Requirement already satisfied: idna in c:\\users\\raghav\\anaconda3\\envs\\tensorflow-session\\lib\\site-packages (from trio~=0.17->selenium) (3.4)\n",
      "Requirement already satisfied: outcome in c:\\users\\raghav\\anaconda3\\envs\\tensorflow-session\\lib\\site-packages (from trio~=0.17->selenium) (1.3.0.post0)\n",
      "Requirement already satisfied: cffi>=1.14 in c:\\users\\raghav\\anaconda3\\envs\\tensorflow-session\\lib\\site-packages (from trio~=0.17->selenium) (1.15.1)\n",
      "Requirement already satisfied: wsproto>=0.14 in c:\\users\\raghav\\anaconda3\\envs\\tensorflow-session\\lib\\site-packages (from trio-websocket~=0.9->selenium) (1.2.0)\n",
      "Requirement already satisfied: pysocks!=1.5.7,<2.0,>=1.5.6 in c:\\users\\raghav\\anaconda3\\envs\\tensorflow-session\\lib\\site-packages (from urllib3[socks]<3,>=1.26->selenium) (1.7.1)\n",
      "Requirement already satisfied: pycparser in c:\\users\\raghav\\anaconda3\\envs\\tensorflow-session\\lib\\site-packages (from cffi>=1.14->trio~=0.17->selenium) (2.21)\n",
      "Requirement already satisfied: h11<1,>=0.9.0 in c:\\users\\raghav\\anaconda3\\envs\\tensorflow-session\\lib\\site-packages (from wsproto>=0.14->trio-websocket~=0.9->selenium) (0.14.0)\n"
     ]
    }
   ],
   "source": [
    "!pip install selenium\n"
   ]
  },
  {
   "cell_type": "code",
   "execution_count": 2,
   "id": "b39ecd11",
   "metadata": {},
   "outputs": [],
   "source": [
    "from selenium import webdriver\n"
   ]
  },
  {
   "cell_type": "code",
   "execution_count": 4,
   "id": "6530dba1",
   "metadata": {},
   "outputs": [],
   "source": [
    "\n",
    "driver = webdriver.Chrome()  # or webdriver.Firefox()\n",
    "driver.get(\"http://www.google.com\")\n",
    " "
   ]
  },
  {
   "cell_type": "code",
   "execution_count": 23,
   "id": "cadff34d",
   "metadata": {},
   "outputs": [],
   "source": [
    "# Set up the webdriver (make sure you have the appropriate driver installed, e.g., chromedriver for Chrome)\n",
    "from selenium.webdriver.common.keys import Keys\n",
    "from selenium.webdriver.common.by import By\n",
    "import time\n",
    "driver = webdriver.Chrome()\n",
    "\n",
    "# Open Google Maps\n",
    "driver.get(\"https://www.google.com/maps\")\n",
    "\n",
    "# Wait for the page to load\n",
    " #time.sleep(5)\n",
    "\n",
    "# Enter the pickup location\n",
    "search_box = driver.find_element(By.ID, \"searchboxinput\")\n",
    "search_box.send_keys(\"iskon temple\")\n",
    "search_box.send_keys(Keys.RETURN)\n",
    "\n",
    "\n",
    "#class_box= driver.find_element(By.CSS_SELECTOR,\"m6QErb DxyBCb kA9KIf dS8AEf XiKgde ecceSd\")\n",
    "#class_box.send_keys(Keys.RETURN)\n",
    "\n",
    " #time.sleep(5)\n",
    "# Wait for the s"
   ]
  },
  {
   "cell_type": "code",
   "execution_count": 22,
   "id": "de407d7b",
   "metadata": {},
   "outputs": [
    {
     "name": "stdout",
     "output_type": "stream",
     "text": [
      "Collecting pygetwindow\n",
      "  Using cached PyGetWindow-0.0.9.tar.gz (9.7 kB)\n",
      "  Preparing metadata (setup.py): started\n",
      "  Preparing metadata (setup.py): finished with status 'done'\n",
      "Collecting pyrect\n",
      "  Downloading PyRect-0.2.0.tar.gz (17 kB)\n",
      "  Preparing metadata (setup.py): started\n",
      "  Preparing metadata (setup.py): finished with status 'done'\n",
      "Building wheels for collected packages: pygetwindow, pyrect\n",
      "  Building wheel for pygetwindow (setup.py): started\n",
      "  Building wheel for pygetwindow (setup.py): finished with status 'done'\n",
      "  Created wheel for pygetwindow: filename=PyGetWindow-0.0.9-py3-none-any.whl size=11079 sha256=30ea4aad6eac673eed583e0f7715c4326c1bb59726831c97a96b7ddecc6bf7a0\n",
      "  Stored in directory: c:\\users\\raghav\\appdata\\local\\pip\\cache\\wheels\\44\\ab\\20\\423c3a444793767e4e41f8377bc902f77bee212e68dcce85a5\n",
      "  Building wheel for pyrect (setup.py): started\n",
      "  Building wheel for pyrect (setup.py): finished with status 'done'\n",
      "  Created wheel for pyrect: filename=PyRect-0.2.0-py2.py3-none-any.whl size=11205 sha256=284744ff673cb365b24e4d106eda7619c1bbaec36d340abf41364523fcba87cd\n",
      "  Stored in directory: c:\\users\\raghav\\appdata\\local\\pip\\cache\\wheels\\25\\80\\fa\\27bb4a1c2e21f64ec71390489d52e57b7cc8afbe79bd595c5e\n",
      "Successfully built pygetwindow pyrect\n",
      "Installing collected packages: pyrect, pygetwindow\n",
      "Successfully installed pygetwindow-0.0.9 pyrect-0.2.0\n"
     ]
    }
   ],
   "source": [
    "!pip install pygetwindow \n",
    "import pygetwindow as gw\n"
   ]
  },
  {
   "cell_type": "code",
   "execution_count": null,
   "id": "eb0cddfa",
   "metadata": {},
   "outputs": [],
   "source": []
  }
 ],
 "metadata": {
  "kernelspec": {
   "display_name": "Python 3 (ipykernel)",
   "language": "python",
   "name": "python3"
  },
  "language_info": {
   "codemirror_mode": {
    "name": "ipython",
    "version": 3
   },
   "file_extension": ".py",
   "mimetype": "text/x-python",
   "name": "python",
   "nbconvert_exporter": "python",
   "pygments_lexer": "ipython3",
   "version": "3.9.16"
  }
 },
 "nbformat": 4,
 "nbformat_minor": 5
}
