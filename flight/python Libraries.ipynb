{
 "cells": [
  {
   "cell_type": "code",
   "execution_count": 1,
   "id": "2ee4e9ad",
   "metadata": {},
   "outputs": [],
   "source": [
    "import requests"
   ]
  },
  {
   "cell_type": "code",
   "execution_count": 2,
   "id": "62b6d20c",
   "metadata": {},
   "outputs": [],
   "source": [
    "import datetime"
   ]
  },
  {
   "cell_type": "code",
   "execution_count": 3,
   "id": "70ba3da1",
   "metadata": {},
   "outputs": [],
   "source": [
    "import urllib"
   ]
  },
  {
   "cell_type": "code",
   "execution_count": 4,
   "id": "9bc2a243",
   "metadata": {},
   "outputs": [],
   "source": [
    "import csv"
   ]
  },
  {
   "cell_type": "code",
   "execution_count": 5,
   "id": "81060a56",
   "metadata": {},
   "outputs": [],
   "source": [
    "import math"
   ]
  },
  {
   "cell_type": "code",
   "execution_count": 6,
   "id": "24fe586d",
   "metadata": {},
   "outputs": [],
   "source": [
    "import scipy"
   ]
  },
  {
   "cell_type": "code",
   "execution_count": 9,
   "id": "259aab87",
   "metadata": {},
   "outputs": [],
   "source": [
    "scipy?"
   ]
  },
  {
   "cell_type": "code",
   "execution_count": 11,
   "id": "6685e032",
   "metadata": {},
   "outputs": [
    {
     "name": "stdout",
     "output_type": "stream",
     "text": [
      "sol1.t: [0.         0.10097672 1.04643602 1.91060117 2.49872472 3.08684827\n",
      " 3.62692846 4.        ]\n"
     ]
    }
   ],
   "source": [
    "from scipy.integrate import solve_ivp\n",
    "from scipy.special import gamma, airy\n",
    "y1_0 = +1 / 3**(2/3) / gamma(2/3)\n",
    "y0_0 = -1 / 3**(1/3) / gamma(1/3)\n",
    "y0 = [y0_0, y1_0]\n",
    "def func(t, y):\n",
    "    return [t*y[1],y[0]]\n",
    "\n",
    "t_span = [0, 4]\n",
    "sol1 = solve_ivp(func, t_span, y0)\n",
    "print(\"sol1.t: {}\".format(sol1.t))\n",
    "#sol1.t:    [0.         0.10097672 1.04643602 1.91060117 2.49872472 3.08684827\n",
    " #3.62692846 4. "
   ]
  },
  {
   "cell_type": "code",
   "execution_count": 14,
   "id": "8da1e9d2",
   "metadata": {},
   "outputs": [],
   "source": [
    "import streamlit as st"
   ]
  },
  {
   "cell_type": "code",
   "execution_count": 16,
   "id": "0f0c73b0",
   "metadata": {},
   "outputs": [
    {
     "ename": "SyntaxError",
     "evalue": "invalid syntax (490915917.py, line 1)",
     "output_type": "error",
     "traceback": [
      "\u001b[1;36m  Cell \u001b[1;32mIn[16], line 1\u001b[1;36m\u001b[0m\n\u001b[1;33m    streamlit run C:\\Users\\Raghav\\anaconda3\\envs\\tensorflow-session\\lib\\site-packages\\ipykernel_launcher.py\u001b[0m\n\u001b[1;37m              ^\u001b[0m\n\u001b[1;31mSyntaxError\u001b[0m\u001b[1;31m:\u001b[0m invalid syntax\n"
     ]
    }
   ],
   "source": [
    "    streamlit run C:\\Users\\Raghav\\anaconda3\\envs\\tensorflow-session\\lib\\site-packages\\ipykernel_launcher.py  \n"
   ]
  },
  {
   "cell_type": "code",
   "execution_count": 42,
   "id": "1bcf7059",
   "metadata": {},
   "outputs": [
    {
     "name": "stdout",
     "output_type": "stream",
     "text": [
      "4:\n",
      "1 2 3 \n",
      "\n",
      "5:\n",
      "1 2 3 4 \n",
      "\n",
      "720\n",
      "\n",
      "[1, 2, 3, 4, 6, 12]\n"
     ]
    }
   ],
   "source": [
    "def func(a ,b):\n",
    "    print(f\"{a}:\")\n",
    "     \n",
    "    for i in range(1,a):\n",
    "        print(i,end=' ')\n",
    "    \n",
    "    print(\"\")\n",
    "    print(\"\")\n",
    "\n",
    "    print(f\"{b}:\")\n",
    "     \n",
    "    for i in range(1,b):\n",
    "        print(i,end=' ')\n",
    "        \n",
    "def factorial(a):\n",
    "    ans=1\n",
    "    for i in range(1,a+1):\n",
    "        ans=ans*i\n",
    "    return ans\n",
    "\n",
    "def factorsofN(n):\n",
    "    ans=[]\n",
    "    for i in range(1,n+1):\n",
    "        if n%i==0:\n",
    "            ans.append(i)\n",
    "    return ans\n",
    "    \n",
    "func(4,5)\n",
    "print(\"\")\n",
    "\n",
    "print(\"\")\n",
    "\n",
    "print(factorial(6))\n",
    "print(\"\")\n",
    "print(factorsofN(12))"
   ]
  },
  {
   "cell_type": "code",
   "execution_count": 43,
   "id": "7481a4ce",
   "metadata": {},
   "outputs": [
    {
     "data": {
      "text/plain": [
       "[1, 3, 5, 15]"
      ]
     },
     "execution_count": 43,
     "metadata": {},
     "output_type": "execute_result"
    }
   ],
   "source": [
    "factorsofN(15)"
   ]
  },
  {
   "cell_type": "code",
   "execution_count": 44,
   "id": "d22b7695",
   "metadata": {},
   "outputs": [
    {
     "data": {
      "text/plain": [
       "[1, 2, 4, 8, 16, 32]"
      ]
     },
     "execution_count": 44,
     "metadata": {},
     "output_type": "execute_result"
    }
   ],
   "source": [
    "factorsofN(32)"
   ]
  },
  {
   "cell_type": "code",
   "execution_count": 46,
   "id": "6084857f",
   "metadata": {},
   "outputs": [
    {
     "data": {
      "text/plain": [
       "[1, 2, 4, 8, 16, 32, 64, 128]"
      ]
     },
     "execution_count": 46,
     "metadata": {},
     "output_type": "execute_result"
    }
   ],
   "source": [
    "factorsofN(128)"
   ]
  },
  {
   "cell_type": "code",
   "execution_count": null,
   "id": "0fb981f5",
   "metadata": {},
   "outputs": [],
   "source": []
  }
 ],
 "metadata": {
  "kernelspec": {
   "display_name": "Python 3 (ipykernel)",
   "language": "python",
   "name": "python3"
  },
  "language_info": {
   "codemirror_mode": {
    "name": "ipython",
    "version": 3
   },
   "file_extension": ".py",
   "mimetype": "text/x-python",
   "name": "python",
   "nbconvert_exporter": "python",
   "pygments_lexer": "ipython3",
   "version": "3.9.16"
  }
 },
 "nbformat": 4,
 "nbformat_minor": 5
}
